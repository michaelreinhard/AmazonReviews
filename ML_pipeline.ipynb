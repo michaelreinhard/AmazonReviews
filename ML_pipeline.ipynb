{
 "cells": [
  {
   "cell_type": "markdown",
   "metadata": {},
   "source": [
    "First, load the packages"
   ]
  },
  {
   "cell_type": "code",
   "execution_count": 1,
   "metadata": {},
   "outputs": [],
   "source": [
    "%matplotlib inline\n",
    "\n",
    "import sqlite3\n",
    "import pandas as pd\n",
    "import numpy as np\n",
    "import nltk\n",
    "import string\n",
    "import matplotlib.pyplot as plt\n",
    "import numpy as np\n",
    "\n",
    "from sklearn.model_selection import GridSearchCV\n",
    "from sklearn.model_selection import StratifiedShuffleSplit\n",
    "from sklearn.feature_extraction.text import TfidfTransformer\n",
    "from sklearn.feature_extraction.text import CountVectorizer\n",
    "from sklearn.feature_extraction.text import TfidfVectorizer\n",
    "from sklearn.decomposition import TruncatedSVD\n",
    "from sklearn.preprocessing import Normalizer\n",
    "from sklearn.model_selection import train_test_split\n",
    "from sklearn.metrics import confusion_matrix\n",
    "from sklearn import metrics\n",
    "from sklearn.metrics import roc_curve, auc\n",
    "from sklearn.metrics import accuracy_score\n",
    "from sklearn.metrics import f1_score, classification_report\n",
    "\n",
    "\n",
    "\n",
    "#models\n",
    "from sklearn.svm import SVC\n",
    "from sklearn.naive_bayes import MultinomialNB\n",
    "\n",
    "\n",
    "\n",
    "import re\n",
    "\n",
    "import spacy\n",
    "import pandas as pd\n",
    "import itertools as it \n",
    "\n",
    "nlp = spacy.load('en')\n"
   ]
  },
  {
   "cell_type": "markdown",
   "metadata": {},
   "source": [
    "### Load functions"
   ]
  },
  {
   "cell_type": "code",
   "execution_count": 2,
   "metadata": {},
   "outputs": [],
   "source": [
    "#import data\n",
    "def importdf_sample_magnitude(order_of_magnitude=None, random_state=None):\n",
    "    '''This function unpickle's the dataframe and returns a random sample of the DataFrame \n",
    "    of a specified magnitude. Allows user to specify the order of magnitude of a random \n",
    "    sampling of the DataFrame. The order_of_magnitude parameter defaults to None, in which \n",
    "    case the function returns the entire data frame. Otherwise, the user enters an integer \n",
    "    which determines the order of magnitude of the DataFrame. A random_state argument is\n",
    "    included as an option.\n",
    "    \n",
    "    IN: integer\n",
    "    OUT: DataFrame'''\n",
    "    df = pd.read_pickle('df_text.pk')\n",
    "    \n",
    "    if order_of_magnitude:\n",
    "        random_state = random_state\n",
    "        sample_size = 10**order_of_magnitude\n",
    "        df = df.sample(sample_size, random_state=random_state)\n",
    "        return df\n",
    "    else: \n",
    "        return df"
   ]
  },
  {
   "cell_type": "code",
   "execution_count": 3,
   "metadata": {},
   "outputs": [],
   "source": [
    "def text_cleaner(df, variable='text_all', lemma_stopword=True, only_stopword=False):\n",
    "    '''\n",
    "    In: df\n",
    "    Out: df\n",
    "    \n",
    "    Takes in a dataframe as an argument and goes through spaCy procedures to \n",
    "    tokenize, lemmatize and remove stop_words. Returns a cleaned string for each \n",
    "    review in the data set.\n",
    "    '''\n",
    "    cleaned_text = []\n",
    "    \n",
    "    regex = re.compile(r'<span.*\\/span>|<br.\\/>|<\\/a >|<a href=.+?\\s>')\n",
    "    \n",
    "    \n",
    "    #takes avariable specified in arguments to iterate through\n",
    "    for text in df[variable]:\n",
    "        \n",
    "        text = str(text).lower() #just to make sure it is a string\n",
    "        \n",
    "        text = re.sub(regex,'',text)\n",
    "\n",
    "        text = nlp(text)\n",
    "        \n",
    "        if lemma_stopword==lemma_stopword:\n",
    "            cleaned = [token.lemma_ for token in text if token.is_punct==False and token.is_stop==False]\n",
    "            cleaned_text.append(' '.join(cleaned))\n",
    "        elif only_stopword==only_stopword:\n",
    "            cleaned = [token.text for token in text if token.is_punct==False and token.is_stop==False]\n",
    "            cleaned_text.append(' '.join(cleaned))\n",
    "        else: \n",
    "            cleaned_text = text\n",
    "    print(len(cleaned_text))\n",
    "    new_variable = f\"{variable}_cleaned\"\n",
    "    df[new_variable] = cleaned_text\n",
    "    return df"
   ]
  },
  {
   "cell_type": "code",
   "execution_count": 4,
   "metadata": {},
   "outputs": [],
   "source": [
    "#standardize text\n",
    "def std_scale(X_train, X_test):\n",
    "    '''\n",
    "    Applies standard scaler to training and testing features of the data set.\n",
    "    '''\n",
    "    from sklearn.preprocessing import StandardScaler\n",
    "    ss = StandardScaler()\n",
    "    ss.fit(X_train)\n",
    "    X_train_std = ss.transform(X_train)\n",
    "    X_test_std = ss.transform(X_test)\n",
    "    return X_train_std, X_test_std"
   ]
  },
  {
   "cell_type": "markdown",
   "metadata": {},
   "source": [
    "### Load the Data"
   ]
  },
  {
   "cell_type": "code",
   "execution_count": null,
   "metadata": {},
   "outputs": [
    {
     "name": "stdout",
     "output_type": "stream",
     "text": [
      "1000\n",
      "10000\n"
     ]
    }
   ],
   "source": [
    "#import samples and lematize\n",
    "df_3 = importdf_sample_magnitude(3,random_state=42)\n",
    "df_4 = importdf_sample_magnitude(4,random_state=42)\n",
    "df_5 = importdf_sample_magnitude(5,random_state=42)\n",
    "\n",
    "#clean the two text variables, text_all and Summary\n",
    "df_3 = text_cleaner(df_3, variable='text_all', lemma_stopword=True, only_stopword=False)\n",
    "df_4 = text_cleaner(df_4, variable='text_all', lemma_stopword=True, only_stopword=False)\n",
    "df_5 = text_cleaner(df_5, variable='text_all', lemma_stopword=True, only_stopword=False)"
   ]
  },
  {
   "cell_type": "markdown",
   "metadata": {},
   "source": [
    "## Model"
   ]
  },
  {
   "cell_type": "code",
   "execution_count": null,
   "metadata": {},
   "outputs": [],
   "source": [
    "for item in df_3.groupby('Score')['Score'].value_counts().items():\n",
    "    print(item[0][0])\n",
    "    print(item[1])\n",
    "y = [(df.positive==0).sum(),(df.positive==1).sum()]\n",
    "x = ['0', '1']"
   ]
  },
  {
   "cell_type": "markdown",
   "metadata": {},
   "source": [
    "### MultinomialNB\n",
    "Ran the multinomialNB on count data. Does well. But I can standardize because it leads to negative values. I have not run the tfidf on this data yet because I have already determined that it does not work as well as the count data."
   ]
  },
  {
   "cell_type": "code",
   "execution_count": null,
   "metadata": {},
   "outputs": [],
   "source": [
    "X_train, X_test, y_train, y_test = train_test_split(X, y)"
   ]
  },
  {
   "cell_type": "code",
   "execution_count": null,
   "metadata": {},
   "outputs": [],
   "source": [
    "\n",
    "\n",
    "\n",
    "#get count data\n",
    "cnt_vctr = CountVectorizer()\n",
    "\n",
    "X_train_cnt = cnt_vctr.fit_transform(X_train)\n",
    "\n",
    "X_test_cnt = cnt_vctr.transform(X_test)\n",
    "\n",
    "# X_train_cnt_std, X_test_cnt_std = std_scale(X_train_cnt.todense(),X_test_cnt.todense())\n",
    "# can't standardize because centering on 0 causes negative values. Try Gaussian? \n",
    "\n",
    "#normalize (rather than standardize)\n",
    "\n",
    "nrmr = Normalizer() \n",
    "X_train_cnt_nrm = nrmr.transform(X_train_cnt)\n",
    "X_test_cnt_nrm = nrmr.transform(X_test_cnt)\n",
    "\n",
    "mulNB_cnt = MultinomialNB()\n",
    "mulNB_cnt.fit(X_train_cnt_nrm, y_train)\n",
    "\n",
    "results_s = {}\n",
    "results_s['multinomialNB_cnt']={}\n",
    "\n",
    "results_s['multinomialNB_cnt']['accuracy'] = accuracy_score(y_test, mulNB_cnt.predict(X_test_cnt_nrm))\n",
    "\n",
    "results_s['multinomialNB_cnt']['parameters']='defaults'\n",
    "\n",
    "\n",
    "\n",
    "results_s['multinomialNB_cnt']['report'] = classification_report(y_test, mulNB_cnt.predict(X_test_cnt_nrm))\n",
    "print(results_s['multinomialNB_cnt']['accuracy'])\n",
    "print(results_s['multinomialNB_cnt']['report'])"
   ]
  },
  {
   "cell_type": "markdown",
   "metadata": {},
   "source": [
    "Here we are supposed to see evidence that there is no gain in accuracy from standardization of the data. I'll go back and get this code running later if necessary."
   ]
  },
  {
   "cell_type": "code",
   "execution_count": null,
   "metadata": {},
   "outputs": [],
   "source": [
    "# from sklearn.svm import SVC\n",
    "\n",
    "\n",
    "# It is usually a good idea to scale the data for SVM training.\n",
    "# We are cheating a bit in this example in scaling all of the data,\n",
    "# instead of fitting the transformation on the training set and\n",
    "# just applying it on the test set.\n",
    "\n",
    "tfidf_vectorizer = TfidfVectorizer()\n",
    "X_tfidf = tfidf_vectorizer.fit_transform(X_train)\n",
    "\n",
    "#do svd on SVC\n",
    "svd = TruncatedSVD(n_components=80, n_iter=5, random_state=42)\n",
    "\n",
    "X_tfidf = svd.fit_transform(X_tfidf)\n",
    "# X_test_tfidf_svd = svd.transform(X_test_tfidf)\n",
    "\n",
    "# C_range =  np.logspace(-2, 10, 3)\n",
    "# gamma_range =  np.logspace(-9, 3, 3)\n",
    "# kernel_types = [\"linear\", \"poly\", \"rbf\", \"sigmoid\"]\n",
    "# , gamma=gamma_range, C=C_range\n",
    "kernel_types = ['rbf', 'sigmoid']\n",
    "param_grid = dict(kernel=kernel_types)\n",
    "cv = StratifiedShuffleSplit(n_splits=3, test_size=0.2, random_state=42)\n",
    "grid = GridSearchCV(SVC(), param_grid=param_grid, cv=cv)\n",
    "grid.fit(X_tfidf, y_train)\n",
    "\n",
    "print(\"The best parameters are %s with a score of %0.2f\"\n",
    "      % (grid.best_params_, grid.best_score_))"
   ]
  },
  {
   "cell_type": "code",
   "execution_count": null,
   "metadata": {},
   "outputs": [],
   "source": [
    "full_gridSearchSVC = grid"
   ]
  },
  {
   "cell_type": "code",
   "execution_count": null,
   "metadata": {},
   "outputs": [],
   "source": [
    "full_gridSearchSVC.best_score_"
   ]
  },
  {
   "cell_type": "code",
   "execution_count": null,
   "metadata": {},
   "outputs": [],
   "source": [
    "grid.best_score_"
   ]
  },
  {
   "cell_type": "code",
   "execution_count": null,
   "metadata": {},
   "outputs": [],
   "source": [
    "SVC_3_tfidf_results_1000 = grid"
   ]
  },
  {
   "cell_type": "code",
   "execution_count": null,
   "metadata": {},
   "outputs": [],
   "source": [
    "SVC_3_tfidf_results_1000.best_score_"
   ]
  },
  {
   "cell_type": "code",
   "execution_count": null,
   "metadata": {},
   "outputs": [],
   "source": [
    "best_model_ = \"The best parameters are {'C': 10000000.0, \\\n",
    "        'gamma': 9.9999999999999995e-08} with a score of 0.85\""
   ]
  },
  {
   "cell_type": "code",
   "execution_count": null,
   "metadata": {},
   "outputs": [],
   "source": [
    "# print(\"Best score with svd and 500 dim: {}\".format(SVC_3_tfidf_svd_results_500.best_score_))\n",
    "# print(\"Best score with svd and 800 dim: {}\".format(SVC_3_tfidf_svd_results.best_score_))\n",
    "# print(\"Best score with 500 dim: {}\".format(SVC_3_tfidf_results_500.best_score_))\n",
    "# print(\"Best score with 800 dim: {}\".format(SVC_3_tfidf_results.best_score_))\n",
    "print(\"Best score with 1000 dim: {}\".format(SVC_3_tfidf_results_1000.best_score_))\n",
    "print(\"Best score with 1000 dim, different kernels: {}\".format(full_gridSearchSVC.best_score_))"
   ]
  },
  {
   "cell_type": "code",
   "execution_count": null,
   "metadata": {},
   "outputs": [],
   "source": [
    "print(X.shape)"
   ]
  },
  {
   "cell_type": "code",
   "execution_count": null,
   "metadata": {},
   "outputs": [],
   "source": [
    "#full pipeline\n",
    "from sklearn.svm import SVC\n",
    "from sklearn.model_selection import StratifiedShuffleSplit\n",
    "from sklearn.model_selection import GridSearchCV\n",
    "from sklearn.decomposition import TruncatedSVD\n",
    "\n",
    "# It is usually a good idea to scale the data for SVM training.\n",
    "# We are cheating a bit in this example in scaling all of the data,\n",
    "# instead of fitting the transformation on the training set and\n",
    "# just applying it on the test set.\n",
    "print(X.shape)\n",
    "\n",
    "tfidf_vectorizer = TfidfVectorizer()\n",
    "X_tfidf = tfidf_vectorizer.fit_transform(X)\n",
    "\n",
    "print(X_tfidf.shape)"
   ]
  },
  {
   "cell_type": "code",
   "execution_count": null,
   "metadata": {},
   "outputs": [],
   "source": [
    "#do svd on SVC\n",
    "#I now know this is a stupidly high number of components for SVC \n",
    "svd = TruncatedSVD(n_components=10, n_iter=5, random_state=42)\n",
    "\n",
    "X_tfidf = svd.fit_transform(X_tfidf)\n",
    "\n",
    "\n",
    "# X_test_tfidf_svd = svd.transform(X_test_tfidf)\n",
    "\n",
    "C_range =  np.logspace(-2, 10, 10)\n",
    "gamma_range =  np.logspace(-9, 3, 10)\n",
    "#kernel_types = [\"linear\", \"poly\", \"rbf\", \"sigmoid\"] --no effect, leave default at rbf\n",
    "param_grid = dict(gamma=gamma_range, C=C_range)\n",
    "cv = StratifiedShuffleSplit(n_splits=3, test_size=0.2, random_state=42)\n",
    "grid = GridSearchCV(SVC(), param_grid=param_grid, cv=cv, n_jobs=-1)\n",
    "grid.fit(X_tfidf, y)\n",
    "\n",
    "print(\"The best parameters are %s with a score of %0.2f\"\n",
    "      % (grid.best_params_, grid.best_score_))"
   ]
  },
  {
   "cell_type": "markdown",
   "metadata": {},
   "source": [
    "So I got 73 with C = 10000.0 and gamma = 0.001. "
   ]
  },
  {
   "cell_type": "code",
   "execution_count": 27,
   "metadata": {},
   "outputs": [
    {
     "name": "stdout",
     "output_type": "stream",
     "text": [
      "(1000, 100)\n"
     ]
    }
   ],
   "source": [
    "print(X_tfidf.shape)"
   ]
  },
  {
   "cell_type": "code",
   "execution_count": 28,
   "metadata": {},
   "outputs": [
    {
     "data": {
      "text/plain": [
       "array([1.e-02, 1.e-01, 1.e+00, 1.e+01, 1.e+02, 1.e+03, 1.e+04, 1.e+05,\n",
       "       1.e+06, 1.e+07, 1.e+08, 1.e+09, 1.e+10])"
      ]
     },
     "execution_count": 28,
     "metadata": {},
     "output_type": "execute_result"
    }
   ],
   "source": [
    "np.logspace(-2, 10, 13)"
   ]
  },
  {
   "cell_type": "code",
   "execution_count": 29,
   "metadata": {},
   "outputs": [
    {
     "data": {
      "text/plain": [
       "1000000000.0"
      ]
     },
     "execution_count": 29,
     "metadata": {},
     "output_type": "execute_result"
    }
   ],
   "source": [
    "float(1.00000000e+09)"
   ]
  },
  {
   "cell_type": "code",
   "execution_count": 35,
   "metadata": {},
   "outputs": [],
   "source": [
    "# X = df_3.text_all_cleaned.values\n",
    "# y = df.positive.values"
   ]
  },
  {
   "cell_type": "code",
   "execution_count": 37,
   "metadata": {},
   "outputs": [],
   "source": [
    "# estimators"
   ]
  },
  {
   "cell_type": "code",
   "execution_count": null,
   "metadata": {},
   "outputs": [],
   "source": []
  },
  {
   "cell_type": "code",
   "execution_count": 38,
   "metadata": {},
   "outputs": [
    {
     "name": "stderr",
     "output_type": "stream",
     "text": [
      "//anaconda3/lib/python3.7/site-packages/sklearn/svm/base.py:193: FutureWarning: The default value of gamma will change from 'auto' to 'scale' in version 0.22 to account better for unscaled features. Set gamma explicitly to 'auto' or 'scale' to avoid this warning.\n",
      "  \"avoid this warning.\", FutureWarning)\n"
     ]
    },
    {
     "name": "stdout",
     "output_type": "stream",
     "text": [
      "The best parameters are {'clf__C': 1, 'reduce_dim__n_components': 50, 'tfidf__max_df': 0.5, 'tfidf__min_df': 0.01} with a score of -0.39\n"
     ]
    }
   ],
   "source": [
    "'''this is close to the best model but I left the TruncatedSVD n_components really low and did \n",
    "not give the TruncatedSVD function a max number of features.''' \n",
    "\n",
    "from sklearn.pipeline import Pipeline\n",
    "from sklearn.decomposition import TruncatedSVD\n",
    "from sklearn.model_selection import RandomizedSearchCV\n",
    "\n",
    "estimators = [('tfidf', TfidfVectorizer(ngram_range=(1, 2))), \n",
    "              ('reduce_dim', TruncatedSVD()), \n",
    "              ('clf', SVC(probability=True))]\n",
    "pipe = Pipeline(estimators)\n",
    "\n",
    "param_grid = dict(tfidf__max_df=[0.25,0.05,0.1,0.2,0.5,0.8], \n",
    "                  tfidf__min_df=[0.01, 0.02], \n",
    "#                   tfidf__max_features=[10,50,100],\n",
    "                  #tfidf__ngram_range=(1,2),\n",
    "                  reduce_dim__n_components=[2,3,4,5,10,50],\n",
    "                  clf__C=[0.001, 1, 1000])\n",
    "\n",
    "cv = StratifiedShuffleSplit(n_splits=3, test_size=0.2, random_state=42)\n",
    "grid = GridSearchCV(pipe, param_grid=param_grid, cv=cv,scoring='neg_log_loss', n_jobs=-1)\n",
    "grid.fit(X, y)\n",
    "\n",
    "print(\"The best parameters are %s with a score of %0.2f\"\n",
    "      % (grid.best_params_, grid.best_score_))"
   ]
  },
  {
   "cell_type": "code",
   "execution_count": 39,
   "metadata": {},
   "outputs": [
    {
     "name": "stdout",
     "output_type": "stream",
     "text": [
      "{'clf__C': 1, 'reduce_dim__n_components': 50, 'tfidf__max_df': 0.5, 'tfidf__min_df': 0.01}\n",
      "0.78\n",
      "-0.38891651002240574\n"
     ]
    }
   ],
   "source": [
    "predictions = grid.predict(X)\n",
    "print(grid.best_params_)\n",
    "print(accuracy_score(y, predictions))\n",
    "print(grid.best_score_)"
   ]
  },
  {
   "cell_type": "code",
   "execution_count": 40,
   "metadata": {},
   "outputs": [],
   "source": [
    "df_5 = importdf_sample_magnitude(5,42)"
   ]
  },
  {
   "cell_type": "code",
   "execution_count": 41,
   "metadata": {},
   "outputs": [
    {
     "name": "stdout",
     "output_type": "stream",
     "text": [
      "100000\n"
     ]
    }
   ],
   "source": [
    "df_5 = text_cleaner(df_5,'text_all')"
   ]
  },
  {
   "cell_type": "code",
   "execution_count": 10,
   "metadata": {},
   "outputs": [],
   "source": [
    "df_4 = importdf_sample_magnitude(4,42)"
   ]
  },
  {
   "cell_type": "code",
   "execution_count": 11,
   "metadata": {},
   "outputs": [
    {
     "name": "stdout",
     "output_type": "stream",
     "text": [
      "10000\n"
     ]
    },
    {
     "data": {
      "text/plain": [
       "Index(['HelpfulnessNumerator', 'HelpfulnessDenominator', 'Score', 'Summary',\n",
       "       'text_all', 'positive', 'text_all_cleaned', 'Summary_cleaned'],\n",
       "      dtype='object')"
      ]
     },
     "execution_count": 11,
     "metadata": {},
     "output_type": "execute_result"
    }
   ],
   "source": [
    "df_4 = text_cleaner(df_4, variable='text_all', lemma_stopword=True, only_stopword=False)\n",
    "df_3.columns"
   ]
  },
  {
   "cell_type": "code",
   "execution_count": 8,
   "metadata": {},
   "outputs": [],
   "source": [
    "X= df_3.text_all_cleaned.values\n",
    "y= df_3.positive.values"
   ]
  },
  {
   "cell_type": "code",
   "execution_count": 13,
   "metadata": {},
   "outputs": [
    {
     "name": "stdout",
     "output_type": "stream",
     "text": [
      "The best parameters are {'tfidf__ngram_range': (1, 2), 'tfidf__min_df': 1e-06, 'tfidf__max_features': 1300, 'tfidf__max_df': 0.5, 'reduce_dim__n_components': 200, 'clf__gamma': 0.1, 'clf__C': 100} with a log loss of 0.4853318030606406\n",
      "the accuracy of the model is 0.7892\n",
      "              precision    recall  f1-score   support\n",
      "\n",
      "           0       0.76      0.62      0.68       908\n",
      "           1       0.80      0.89      0.84      1592\n",
      "\n",
      "    accuracy                           0.79      2500\n",
      "   macro avg       0.78      0.75      0.76      2500\n",
      "weighted avg       0.79      0.79      0.78      2500\n",
      "\n"
     ]
    }
   ],
   "source": [
    "'''This is the one that finally worked. '''\n",
    "#this is a working model for testing theories\n",
    "# import timeit\n",
    "# %%timeit\n",
    "\n",
    "from sklearn.pipeline import Pipeline\n",
    "from sklearn.decomposition import TruncatedSVD\n",
    "from sklearn.model_selection import RandomizedSearchCV\n",
    "\n",
    "X= df_4.text_all_cleaned.values\n",
    "y= df_4.positive.values\n",
    "\n",
    "X_train, X_test, y_train,  y_test = train_test_split(X, y)\n",
    "\n",
    "estimators = [('tfidf', TfidfVectorizer()), \n",
    "              ('reduce_dim', TruncatedSVD()), \n",
    "              ('clf', SVC(probability=True))]\n",
    "pipe = Pipeline(estimators)\n",
    "\n",
    "param_distributions = dict(tfidf__max_df=[0.5, 0.6, 0.7, 0.8, 0.9], \n",
    "                  tfidf__min_df=[0.000001, 0.00001, 0.0001], \n",
    "                  tfidf__max_features=[1000, 1300, 1600], #Maybe do this with numbers over 100? \n",
    "                  tfidf__ngram_range=[(1,2)],\n",
    "                  reduce_dim__n_components=[100, 140,200],\n",
    "                  clf__C=[100, 1000, 10000, 100000], \n",
    "                  clf__gamma=[0.1, 0.01, 0.001, 0.0001])\n",
    "\n",
    "cv = StratifiedShuffleSplit(n_splits=3, test_size=0.2, random_state=42)\n",
    "grid = RandomizedSearchCV(pipe, param_distributions=param_distributions, cv=cv, scoring='neg_log_loss',n_iter=25, n_jobs=-1)\n",
    "grid.fit(X_train, y_train)\n",
    "predictions = grid.predict(X_test)\n",
    "\n",
    "print(\"The best parameters are {} with a log loss of {}\".format(grid.best_params_, -1*grid.best_score_))\n",
    "print('the accuracy of the model is {}'.format(accuracy_score(y_test, predictions)))\n",
    "print(classification_report(y_test, predictions))"
   ]
  },
  {
   "cell_type": "markdown",
   "metadata": {},
   "source": [
    "Started going back down:\n",
    "\n",
    "The best parameters are {'tfidf__ngram_range': (1, 2), 'tfidf__min_df': 0.0001, 'tfidf__max_features': 1300, 'tfidf__max_df': 0.8, 'reduce_dim__n_components': 140, 'clf__gamma': 0.01, 'clf__C': 10000} with a log loss of 0.4929541792094349\n",
    "the accuracy of the model is 0.7748\n",
    "              precision    recall  f1-score   support\n",
    "\n",
    "           0       0.73      0.62      0.67       916\n",
    "           1       0.80      0.86      0.83      1584\n",
    "\n",
    "    accuracy                           0.77      2500\n",
    "   macro avg       0.76      0.74      0.75      2500\n",
    "weighted avg       0.77      0.77      0.77      2500\n",
    "\n",
    "\n",
    "\n",
    "\n",
    "Lastest best model so far:\n",
    "\n",
    "The best parameters are {'tfidf__ngram_range': (1, 2), 'tfidf__min_df': 1e-05, 'tfidf__max_features': 1300, 'tfidf__max_df': 0.7, 'reduce_dim__n_components': 140, 'clf__gamma': 0.01, 'clf__C': 10000} with a log loss of 0.49408760389845235\n",
    "the accuracy of the model is 0.7852\n",
    "              precision    recall  f1-score   support\n",
    "\n",
    "           0       0.75      0.62      0.68       909\n",
    "           1       0.80      0.88      0.84      1591\n",
    "\n",
    "    accuracy                           0.79      2500\n",
    "   macro avg       0.77      0.75      0.76      2500\n",
    "weighted avg       0.78      0.79      0.78      2500\n"
   ]
  },
  {
   "cell_type": "markdown",
   "metadata": {},
   "source": [
    "New best model so far: \n",
    "\n",
    "The best parameters are {'tfidf__ngram_range': (1, 2), 'tfidf__min_df': 0.0001, 'tfidf__max_features': 1200, 'tfidf__max_df': 0.7, 'reduce_dim__n_components': 130, 'clf__gamma': 0.001, 'clf__C': 10000} with a log loss of 0.4893221891715191\n",
    "the accuracy of the model is 0.7752\n",
    "              precision    recall  f1-score   support\n",
    "\n",
    "           0       0.71      0.62      0.66       891\n",
    "           1       0.80      0.86      0.83      1609\n",
    "\n",
    "    accuracy                           0.78      2500\n",
    "   macro avg       0.76      0.74      0.75      2500\n",
    "weighted avg       0.77      0.78      0.77      2500\n",
    "\n",
    "\n",
    "\n",
    "Best model so far: \n",
    "\n",
    "The best parameters are {'tfidf__ngram_range': (1, 2), 'tfidf__min_df': 0.001, 'tfidf__max_features': 1000, 'tfidf__max_df': 0.6, 'reduce_dim__n_components': 140, 'clf__gamma': 0.0001, 'clf__C': 1000} with a log loss of 0.5023788452988097\n",
    "the accuracy of the model is 0.7684\n",
    "              precision    recall  f1-score   support\n",
    "\n",
    "           0       0.80      0.48      0.60       908\n",
    "           1       0.76      0.93      0.84      1592\n",
    "\n",
    "    accuracy                           0.77      2500\n",
    "   macro avg       0.78      0.71      0.72      2500\n",
    "weighted avg       0.77      0.77      0.75      2500\n"
   ]
  },
  {
   "cell_type": "code",
   "execution_count": 56,
   "metadata": {},
   "outputs": [
    {
     "data": {
      "text/plain": [
       "array([[0.0437, 0.0471],\n",
       "       [0.0108, 0.1484]])"
      ]
     },
     "execution_count": 56,
     "metadata": {},
     "output_type": "execute_result"
    }
   ],
   "source": [
    "from sklearn.metrics import confusion_matrix\n",
    "confusion_matrix(y_test,predictions)/10000"
   ]
  },
  {
   "cell_type": "code",
   "execution_count": 57,
   "metadata": {},
   "outputs": [
    {
     "name": "stdout",
     "output_type": "stream",
     "text": [
      "[1 1 1 1 1 1 0 1 1 0 0 1 0 0 1 0 0 1 1 0 1 0 0 0 1 0 1 0 1 1]\n",
      "[1 1 1 1 1 1 0 1 1 1 1 1 0 1 1 0 1 1 1 1 0 1 0 1 1 1 1 0 1 1]\n"
     ]
    }
   ],
   "source": [
    "print(y_test[:30])\n",
    "print(predictions[:30])"
   ]
  },
  {
   "cell_type": "code",
   "execution_count": 59,
   "metadata": {},
   "outputs": [],
   "source": [
    "confusion = confusion_matrix(y_test,predictions)"
   ]
  },
  {
   "cell_type": "code",
   "execution_count": 60,
   "metadata": {},
   "outputs": [],
   "source": [
    "TP = confusion[1,1]\n",
    "TN = confusion[0,0]\n",
    "FP = confusion[0,1]\n",
    "FN = confusion[1,0]"
   ]
  },
  {
   "cell_type": "code",
   "execution_count": 61,
   "metadata": {},
   "outputs": [
    {
     "name": "stdout",
     "output_type": "stream",
     "text": [
      "Accuracy is 0.7684\n"
     ]
    }
   ],
   "source": [
    "print(\"Accuracy is {}\".format((TP + TN)/(TP + FP + TN + FN)))"
   ]
  },
  {
   "cell_type": "code",
   "execution_count": 63,
   "metadata": {},
   "outputs": [
    {
     "name": "stdout",
     "output_type": "stream",
     "text": [
      "Sensitivity is 0.9321608040201005\n",
      "Sklearn's Sensitivity/Recall: 0.9321608040201005\n"
     ]
    }
   ],
   "source": [
    "print(\"Sensitivity is {}\".format(TP/(TP + FN)))\n",
    "print(\"Sklearn's Sensitivity/Recall: {}\".format(metrics.recall_score(y_test,predictions)))"
   ]
  },
  {
   "cell_type": "code",
   "execution_count": 64,
   "metadata": {},
   "outputs": [
    {
     "name": "stdout",
     "output_type": "stream",
     "text": [
      "Specificity is 0.4812775330396476\n",
      "No metric in Sklearn\n"
     ]
    }
   ],
   "source": [
    "print(\"Specificity is {}\".format(TN/(TN + FP)))\n",
    "print(\"No metric in Sklearn\")"
   ]
  },
  {
   "cell_type": "code",
   "execution_count": 65,
   "metadata": {},
   "outputs": [
    {
     "name": "stdout",
     "output_type": "stream",
     "text": [
      "False Positive 0.24092071611253196\n"
     ]
    }
   ],
   "source": [
    "print(\"False Positive {}\".format(FP/(TP + FP)))"
   ]
  },
  {
   "cell_type": "code",
   "execution_count": 67,
   "metadata": {},
   "outputs": [
    {
     "name": "stdout",
     "output_type": "stream",
     "text": [
      "Precision score 0.759079283887468\n",
      "Sklearn Precision Score: 0.759079283887468\n"
     ]
    }
   ],
   "source": [
    "print(\"Precision score {}\".format(TP/(TP+FP)))\n",
    "print(\"Sklearn Precision Score: {}\".format(metrics.precision_score(y_test,predictions)))"
   ]
  },
  {
   "cell_type": "markdown",
   "metadata": {},
   "source": [
    "Create a baseline for a dummy classifier."
   ]
  },
  {
   "cell_type": "code",
   "execution_count": 68,
   "metadata": {},
   "outputs": [
    {
     "name": "stdout",
     "output_type": "stream",
     "text": [
      "10000\n"
     ]
    },
    {
     "data": {
      "text/plain": [
       "10000"
      ]
     },
     "execution_count": 68,
     "metadata": {},
     "output_type": "execute_result"
    }
   ],
   "source": [
    "from sklearn.dummy import DummyClassifier\n",
    "\n",
    "X_dummy = np.array(np.linspace(0,100,10000))\n",
    "print(len(X_dummy))\n",
    "len(y)"
   ]
  },
  {
   "cell_type": "code",
   "execution_count": 69,
   "metadata": {},
   "outputs": [],
   "source": [
    "dumb = DummyClassifier( strategy='most_frequent')"
   ]
  },
  {
   "cell_type": "code",
   "execution_count": 70,
   "metadata": {},
   "outputs": [],
   "source": [
    "X_dummy = X_dummy.reshape(-1,1)"
   ]
  },
  {
   "cell_type": "code",
   "execution_count": 71,
   "metadata": {},
   "outputs": [
    {
     "data": {
      "text/plain": [
       "DummyClassifier(constant=None, random_state=None, strategy='most_frequent')"
      ]
     },
     "execution_count": 71,
     "metadata": {},
     "output_type": "execute_result"
    }
   ],
   "source": [
    "dumb.fit(X_dummy,y)"
   ]
  },
  {
   "cell_type": "code",
   "execution_count": 72,
   "metadata": {},
   "outputs": [],
   "source": [
    "predictions = dumb.predict(X_dummy)"
   ]
  },
  {
   "cell_type": "code",
   "execution_count": 73,
   "metadata": {},
   "outputs": [
    {
     "data": {
      "text/plain": [
       "12.444609230040419"
      ]
     },
     "execution_count": 73,
     "metadata": {},
     "output_type": "execute_result"
    }
   ],
   "source": [
    "metrics.log_loss(y, predictions)"
   ]
  },
  {
   "cell_type": "code",
   "execution_count": 74,
   "metadata": {},
   "outputs": [
    {
     "name": "stdout",
     "output_type": "stream",
     "text": [
      "Normalized confusion matrix\n",
      "[[0.48127753 0.51872247]\n",
      " [0.0678392  0.9321608 ]]\n"
     ]
    },
    {
     "data": {
      "image/png": "[encoded data removed]",
      "text/plain": [
       "<Figure size 432x288 with 2 Axes>"
      ]
     },
     "metadata": {
      "needs_background": "light"
     },
     "output_type": "display_data"
    }
   ],
   "source": [
    "#classes correspond to 0,1\n",
    "classes = ['False','True']\n",
    "\n",
    "def plot_confusion_matrix(cm, classes,\n",
    "                          normalize=False,\n",
    "                          title='Confusion matrix',\n",
    "                          cmap=plt.cm.Blues):\n",
    "    \"\"\"\n",
    "    This function prints and plots the confusion matrix.\n",
    "    Normalization can be applied by setting `normalize=True`.\n",
    "    \"\"\"\n",
    "    if normalize:\n",
    "        cm = cm.astype('float') / cm.sum(axis=1)[:, np.newaxis]\n",
    "        print(\"Normalized confusion matrix\")\n",
    "    else:\n",
    "        print('Confusion matrix, without normalization')\n",
    "\n",
    "    print(cm)\n",
    "\n",
    "    plt.imshow(cm, interpolation='nearest', cmap=cmap)\n",
    "    plt.title(title)\n",
    "    plt.colorbar()\n",
    "    tick_marks = np.arange(len(classes))\n",
    "    plt.xticks(tick_marks, classes, rotation=45)\n",
    "    plt.yticks(tick_marks, classes)\n",
    "\n",
    "    \n",
    "    \n",
    "plot_confusion_matrix(confusion,classes, normalize=True)"
   ]
  },
  {
   "cell_type": "code",
   "execution_count": 75,
   "metadata": {},
   "outputs": [
    {
     "data": {
      "image/png": "[encoded data removed]",
      "text/plain": [
       "<Figure size 432x288 with 1 Axes>"
      ]
     },
     "metadata": {
      "needs_background": "light"
     },
     "output_type": "display_data"
    }
   ],
   "source": [
    "plt.hist(grid.predict_proba(X));"
   ]
  },
  {
   "cell_type": "code",
   "execution_count": 76,
   "metadata": {},
   "outputs": [],
   "source": [
    "predicted_probabilities = grid.predict_proba(X)[:100]"
   ]
  },
  {
   "cell_type": "code",
   "execution_count": 77,
   "metadata": {},
   "outputs": [],
   "source": [
    "probabilties = [p[1] for p in predicted_probabilities]"
   ]
  },
  {
   "cell_type": "code",
   "execution_count": 78,
   "metadata": {},
   "outputs": [
    {
     "data": {
      "image/png": "[encoded data removed]",
      "text/plain": [
       "<Figure size 432x288 with 1 Axes>"
      ]
     },
     "metadata": {
      "needs_background": "light"
     },
     "output_type": "display_data"
    }
   ],
   "source": [
    "plt.hist(probabilties);"
   ]
  },
  {
   "cell_type": "code",
   "execution_count": 69,
   "metadata": {},
   "outputs": [
    {
     "data": {
      "text/plain": [
       "array([0])"
      ]
     },
     "execution_count": 69,
     "metadata": {},
     "output_type": "execute_result"
    }
   ],
   "source": [
    "import pickle\n",
    "s = pickle.dumps(grid)\n",
    "new_grid = pickle.loads(s)\n",
    "new_grid.predict([\"I hate this product and everyone that eats this crap\"])"
   ]
  },
  {
   "cell_type": "code",
   "execution_count": 71,
   "metadata": {},
   "outputs": [
    {
     "ename": "FileNotFoundError",
     "evalue": "[Errno 2] No such file or directory: '../flask_app_test/grid.pkl'",
     "output_type": "error",
     "traceback": [
      "\u001b[0;31m---------------------------------------------------------------------------\u001b[0m",
      "\u001b[0;31mFileNotFoundError\u001b[0m                         Traceback (most recent call last)",
      "\u001b[0;32m<ipython-input-71-5e181f530397>\u001b[0m in \u001b[0;36m<module>\u001b[0;34m\u001b[0m\n\u001b[1;32m      1\u001b[0m \u001b[0;32mfrom\u001b[0m \u001b[0msklearn\u001b[0m\u001b[0;34m.\u001b[0m\u001b[0mexternals\u001b[0m \u001b[0;32mimport\u001b[0m \u001b[0mjoblib\u001b[0m\u001b[0;34m\u001b[0m\u001b[0;34m\u001b[0m\u001b[0m\n\u001b[0;32m----> 2\u001b[0;31m \u001b[0mjoblib\u001b[0m\u001b[0;34m.\u001b[0m\u001b[0mdump\u001b[0m\u001b[0;34m(\u001b[0m\u001b[0mgrid\u001b[0m\u001b[0;34m,\u001b[0m \u001b[0;34m'../flask_app_test/grid.pkl'\u001b[0m\u001b[0;34m)\u001b[0m\u001b[0;34m\u001b[0m\u001b[0;34m\u001b[0m\u001b[0m\n\u001b[0m",
      "\u001b[0;32m//anaconda3/lib/python3.7/site-packages/joblib/numpy_pickle.py\u001b[0m in \u001b[0;36mdump\u001b[0;34m(value, filename, compress, protocol, cache_size)\u001b[0m\n\u001b[1;32m    499\u001b[0m             \u001b[0mNumpyPickler\u001b[0m\u001b[0;34m(\u001b[0m\u001b[0mf\u001b[0m\u001b[0;34m,\u001b[0m \u001b[0mprotocol\u001b[0m\u001b[0;34m=\u001b[0m\u001b[0mprotocol\u001b[0m\u001b[0;34m)\u001b[0m\u001b[0;34m.\u001b[0m\u001b[0mdump\u001b[0m\u001b[0;34m(\u001b[0m\u001b[0mvalue\u001b[0m\u001b[0;34m)\u001b[0m\u001b[0;34m\u001b[0m\u001b[0;34m\u001b[0m\u001b[0m\n\u001b[1;32m    500\u001b[0m     \u001b[0;32melif\u001b[0m \u001b[0mis_filename\u001b[0m\u001b[0;34m:\u001b[0m\u001b[0;34m\u001b[0m\u001b[0;34m\u001b[0m\u001b[0m\n\u001b[0;32m--> 501\u001b[0;31m         \u001b[0;32mwith\u001b[0m \u001b[0mopen\u001b[0m\u001b[0;34m(\u001b[0m\u001b[0mfilename\u001b[0m\u001b[0;34m,\u001b[0m \u001b[0;34m'wb'\u001b[0m\u001b[0;34m)\u001b[0m \u001b[0;32mas\u001b[0m \u001b[0mf\u001b[0m\u001b[0;34m:\u001b[0m\u001b[0;34m\u001b[0m\u001b[0;34m\u001b[0m\u001b[0m\n\u001b[0m\u001b[1;32m    502\u001b[0m             \u001b[0mNumpyPickler\u001b[0m\u001b[0;34m(\u001b[0m\u001b[0mf\u001b[0m\u001b[0;34m,\u001b[0m \u001b[0mprotocol\u001b[0m\u001b[0;34m=\u001b[0m\u001b[0mprotocol\u001b[0m\u001b[0;34m)\u001b[0m\u001b[0;34m.\u001b[0m\u001b[0mdump\u001b[0m\u001b[0;34m(\u001b[0m\u001b[0mvalue\u001b[0m\u001b[0;34m)\u001b[0m\u001b[0;34m\u001b[0m\u001b[0;34m\u001b[0m\u001b[0m\n\u001b[1;32m    503\u001b[0m     \u001b[0;32melse\u001b[0m\u001b[0;34m:\u001b[0m\u001b[0;34m\u001b[0m\u001b[0;34m\u001b[0m\u001b[0m\n",
      "\u001b[0;31mFileNotFoundError\u001b[0m: [Errno 2] No such file or directory: '../flask_app_test/grid.pkl'"
     ]
    }
   ],
   "source": [
    "from sklearn.externals import joblib\n",
    "joblib.dump(grid, '../flask_app_test/grid.pkl')"
   ]
  },
  {
   "cell_type": "markdown",
   "metadata": {},
   "source": [
    "Other things to try:\n",
    "\n",
    ">The latent dirichlet idea for engineering features\n",
    ">More features like the helpfulness rating of the review writer\n",
    "\n"
   ]
  },
  {
   "cell_type": "code",
   "execution_count": null,
   "metadata": {},
   "outputs": [
    {
     "name": "stdout",
     "output_type": "stream",
     "text": [
      "100000\n"
     ]
    }
   ],
   "source": [
    "#run with 100000 cases Monday night. \n",
    "df_5 = text_cleaner(df_5, 'text_all')\n",
    "X= df_5.text_all_cleaned.values\n",
    "y= df_5.positive.values\n",
    "\n",
    "\n",
    "\n",
    "from sklearn.pipeline import Pipeline\n",
    "from sklearn.decomposition import TruncatedSVD\n",
    "from sklearn.model_selection import RandomizedSearchCV\n",
    "\n",
    "estimators = [('tfidf', TfidfVectorizer()), \n",
    "              ('reduce_dim', TruncatedSVD()), \n",
    "              ('clf', SVC(probability=True))]\n",
    "pipe = Pipeline(estimators)\n",
    "\n",
    "param_distributions = dict(tfidf__max_df=[0.1,0.2,0.5,0.8], \n",
    "                  #tfidf__min_df=[0.01, 0.02, 0.03 ], \n",
    "                  #tfidf__max_features=[10,50,100], Maybe do this with numbers over 100? \n",
    "                  tfidf__ngram_range=[(1,2),(1,3)],\n",
    "                  reduce_dim__n_components=[2,5,10,20,50],\n",
    "                  clf__C=[0.001, 1, 1000, 10000], \n",
    "                  clf__gamma=[0.1, 0.0001])\n",
    "\n",
    "cv = StratifiedShuffleSplit(n_splits=3, test_size=0.2, random_state=42)\n",
    "grid = RandomizedSearchCV(pipe, param_distributions=param_distributions, cv=cv, scoring='neg_log_loss', n_jobs=-1)\n",
    "grid.fit(X, y)\n",
    "predictions = grid.predict(X)\n",
    "\n",
    "print(\"The best parameters are {} with a log loss of {}\".format(grid.best_params_, -1*grid.best_score_))\n",
    "print('the accuracy of the model with 10^5 is {}'.format(accuracy_score(y, predictions)))"
   ]
  },
  {
   "cell_type": "code",
   "execution_count": null,
   "metadata": {},
   "outputs": [],
   "source": [
    "Best_Model = grid"
   ]
  },
  {
   "cell_type": "markdown",
   "metadata": {},
   "source": [
    "Some last minute attempts. First, lay out the baseline MNB, LR, and SVM models.\n",
    "\n",
    "Add new model: Random Forest? That is a last priority.\n",
    "\n",
    "First, run the final version of the model."
   ]
  },
  {
   "cell_type": "code",
   "execution_count": null,
   "metadata": {},
   "outputs": [],
   "source": [
    "'''\n",
    "Best Model tested on Larger Data Set, n = 100000\n",
    "DATA PREP:\n",
    "    TfidfVectorizer: ngram_range=(1,3); max_df=0.5\n",
    "    TruncatedSVD: n_components=20\n",
    "MODEL: \n",
    "    gamma=0.0001\n",
    "    C=1000\n",
    "RESULTS:\n",
    "    log loss: 0.4301\n",
    "    Accuracy: 0.7826\n",
    "The best parameters are {'tfidf__ngram_range': (1, 3), 'tfidf__max_df': 0.5,\n",
    "'reduce_dim__n_components': 20, 'clf__gamma': 0.0001, 'clf__C': 1000} with \n",
    "a log loss of 0.4301149914560899; the accuracy of the model \n",
    "with 10^5 is 0.78263.'''\n",
    "\n",
    "\n",
    "### run the final form of the model\n",
    "# X = df_3.text_all.values\n",
    "# y = df_3.positive.values\n",
    "\n",
    "# X_train, X_test, y_train, y_test = train_test_split(X,y,stratify=y)\n",
    "\n",
    "# tfidf_vec = TfidfVectorizer(ngram_range=(1,3), max_df=0.5)\n",
    "# X_train_tfidf = tfidf_vec.fit_transform(X_train)\n",
    "# X_test_tfidf = tfidf_vec.transform(X_test)\n",
    "\n",
    "# svd = TruncatedSVD(n_components=20)\n",
    "# X_train_tfidf_svd =svd.fit_transform(X_train_tfidf)\n",
    "# X_test_tfidf_svd =svd.fit_transform(X_test_tfidf)\n",
    "\n",
    "\n",
    "# svc = SVC(probability=True, C=1000,gamma=0.0001)\n",
    "# svc.fit(X_train_tfidf_svd,y_train)\n",
    "# predictions = svc.predict(X_test_tfidf_svd)\n",
    "# accuracy_score(y_test, predictions)\n",
    "\n",
    "#run on all data for the app\n",
    "tfidf_vec = TfidfVectorizer(ngram_range=(1,3), max_df=0.5)\n",
    "X_t = tfidf_vec.fit_transform(X)\n",
    "\n",
    "svd = TruncatedSVD(n_components=20)\n",
    "X_t_s = svd.fit_transform(X_t)\n",
    "print(X_t_s.shape)\n",
    "\n",
    "print(type(X_t_s))\n",
    "# np.save()\n",
    "\n",
    "### Grid Search for final model\n",
    "# estimators = [('tfidf', TfidfVectorizer()), \n",
    "#               ('reduce_dim', TruncatedSVD()), \n",
    "#               ('clf', SVC(probability=True))]\n",
    "# pipe = Pipeline(estimators)\n",
    "\n",
    "# param_distributions = dict(tfidf__max_df=[0.1,0.2,0.5,0.8], \n",
    "#                   #tfidf__min_df=[0.01, 0.02, 0.03 ], \n",
    "#                   #tfidf__max_features=[10,50,100], Maybe do this with numbers over 100? \n",
    "#                   tfidf__ngram_range=[(1,2),(1,3)],\n",
    "#                   reduce_dim__n_components=[2,5,10,20,50],\n",
    "#                   clf__C=[0.001, 1, 1000, 10000], \n",
    "#                   clf__gamma=[0.1, 0.0001])\n",
    "\n",
    "# cv = StratifiedShuffleSplit(n_splits=3, test_size=0.2, random_state=42)\n",
    "# grid = RandomizedSearchCV(pipe, param_distributions=param_distributions, cv=cv, scoring='neg_log_loss', n_jobs=-1)\n",
    "# grid.fit(X, y)\n",
    "# predictions = grid.predict(X)\n",
    "\n",
    "# print(\"The best parameters are {} with a log loss of {}\".format(grid.best_params_, -1*grid.best_score_))\n",
    "# print('the accuracy of the model with 10^5 is {}'.format(accuracy_score(y, predictions)))"
   ]
  },
  {
   "cell_type": "code",
   "execution_count": null,
   "metadata": {},
   "outputs": [],
   "source": [
    "#save numpy array"
   ]
  },
  {
   "cell_type": "code",
   "execution_count": 22,
   "metadata": {},
   "outputs": [
    {
     "name": "stdout",
     "output_type": "stream",
     "text": [
      "The best parameters are {'tfidf__ngram_range': (1, 2), 'tfidf__max_features': 400, 'tfidf__max_df': 0.5, 'reduce_dim__n_components': 150, 'clf__gamma': 1e-06, 'clf__C': 100} with a log loss of 0.3818472562554885\n"
     ]
    }
   ],
   "source": [
    "#this is a working model for testing theories\n",
    "# import timeit\n",
    "# %%timeit\n",
    "\n",
    "from sklearn.pipeline import Pipeline\n",
    "from sklearn.decomposition import TruncatedSVD\n",
    "from sklearn.model_selection import RandomizedSearchCV\n",
    "\n",
    "X= df_3.text_all_cleaned.values\n",
    "y= df_3.positive.values\n",
    "\n",
    "\n",
    "\n",
    "estimators = [('tfidf', TfidfVectorizer()), \n",
    "              ('reduce_dim', TruncatedSVD()), \n",
    "              ('clf', SVC(probability=True))]\n",
    "pipe = Pipeline(estimators)\n",
    "\n",
    "param_distributions = dict(tfidf__max_df=[0.05, 0.1,0.2,0.5,0.8], \n",
    "#                   tfidf__min_df=[0.01, 0.02, 0.03 ], \n",
    "                  tfidf__max_features=[200,300,400], #Maybe do this with numbers over 100? \n",
    "                  tfidf__ngram_range=[(1,2),(1,3)],\n",
    "                  reduce_dim__n_components=[20,50,80,100,120,130,140,150],\n",
    "                  clf__C=[1, 100, 1000, 10000], \n",
    "                  clf__gamma=[0.1, 0.0001, 0.00001, 0.000001])\n",
    "\n",
    "cv = StratifiedShuffleSplit(n_splits=3, test_size=0.2, random_state=42)\n",
    "grid = RandomizedSearchCV(pipe, param_distributions=param_distributions, cv=cv, scoring='neg_log_loss',n_iter=25, n_jobs=-1)\n",
    "grid.fit(X, y)\n",
    "predictions = grid.predict(X)\n",
    "\n",
    "print(\"The best parameters are {} with a log loss of {}\".format(grid.best_params_, -1*grid.best_score_))"
   ]
  },
  {
   "cell_type": "code",
   "execution_count": 113,
   "metadata": {},
   "outputs": [
    {
     "name": "stdout",
     "output_type": "stream",
     "text": [
      "1000\n",
      "['Crunchy Good Gluten Free Sandwich Cookies have try couple brand gluten free sandwich cookie good bunch   crunchy true texture real cookie gluten free   think filling make bit sweet mean satisfy sweet tooth sooner   chocolate version Glutino good true chocolatey taste gluten free brand'\n",
      " 'great kitty treat cat love treat find house pop bolt hide come treat like crunchy treat perfect give flavor like equally tend dry time near end bottle flip lid handy nice inexpensive kitty treat meet cat love'\n",
      " 'COFFEE taste little expect   tend muddy taste expect say favorite company'\n",
      " 'Mini Wheats big frost Mini Wheats original size frost Mini Wheats Bite Size reason mouthful frost Mini wheat Little Bits yes half size Bite Size version particular Cinnamon roll\".there new table exception size unnecessary personally like original flavor size good Bite Size edition accommodate come desperate attempt attention brand need sort life come make small have new flavor actually sweet serve size approximately 47 biscuit s 1 gram polyunsaturate fat 46 gram carbohydrate 6 g fiber 12 g sugar 5 g protein 200 mg potassium generally look good guess watch carb intake want careful probably fit spoon better predecessor bowl milk like kind cause snack better milk small one easily snack grade product 2 star 3 reason 1 not think make small reason exist outside Kellogs fill shelf version fine begin 2 flavor Cinnamon Roll sweet synthetic taste 3 plus like Mini Wheats general save star'\n",
      " 'Great Taste want congratulate graphic artist put entire product small box   ad man think long hard seriously love product taste refresh think taste pleasing aftertaste   sweet Goldilocks stop right choice 3   Easy use pour content 16 oz bottle water shake   Mixed granulation ask Lipton like good drug dealer know taste free life   5 star'\n",
      " 'Lifesavers Pineapple flavor add Pineapple flavor package lifesaver fact sell pineapple flavor'\n",
      " 'good Tea absolutely love Yorkshire tea glad available Amazon   cup bodied black tea milk morning start day love'\n",
      " 'Lady Grey hit hard time find loose tea locally able order favorite Lady Grey tea Amazon convenient timesaving tea come pack tin right size insure continue freshness speedy shipping'\n",
      " 'pretty good rice noodle previously attempt recipe white rice noodle overcook soggy determine overcook brown rice noodle try make dish miso soup brown rice noodle broth miso green onion noodle add hot noodle soften puff think soften water maybe rinse broth end little starchy noodle pretty good noodle flavor flavor dish rice noodle miso probably good idea mild miso flavor noodle flavor try stir fry noodle well soak noodle hot water minute drain come clear kind crunchy stir fry garlic onion salt coconut oil add vinegar nama shoyu flavor noodle come crunchy spicy actually pretty good nice thing noodle need minute warm water fry add soup dish fairly versatile gluten free brown rice noodle firm white rice noodle reviewer post look like noodle Singapore'\n",
      " 'simply good pancake waffle Saturday morning kid simply comparison product baking powder come expensive brand Trader Joe Foods pale comparison Batter come light fluffy time kid love know eat pancake pack 6 store']\n",
      "165256    Crunchy & Good Gluten-Free Sandwich Cookies! ....\n",
      "231465    great kitty treats . My cat loves these treats...\n",
      "427827    COFFEE TASTE . A little less than I expected. ...\n",
      "433954    So the Mini-Wheats were too big? . First there...\n",
      "70260     Great Taste . . . . and I want to congratulate...\n",
      "49866     Lifesavers - Pineapple flavor . Please add mor...\n",
      "551047    The Best Tea! . I absolutely love Yorkshire te...\n",
      "18983     Lady Grey a hit! . I have such a hard time fin...\n",
      "138968    Pretty good rice noodles . Previously, I've at...\n",
      "36352     Simply the best . I make pancakes or waffles e...\n",
      "Name: text_all, dtype: object\n"
     ]
    }
   ],
   "source": [
    "#this is a working model for testing theories\n",
    "# import timeit\n",
    "# %%timeit\n",
    "\n",
    "from sklearn.pipeline import Pipeline\n",
    "from sklearn.decomposition import TruncatedSVD\n",
    "from sklearn.model_selection import RandomizedSearchCV\n",
    "\n",
    "# df_4 = importdf_sample_magnitude(4,42)\n",
    "df_3 = importdf_sample_magnitude(3, 42)\n",
    "\n",
    "\n",
    "df_3 = text_cleaner(df_3, 'text_all')\n",
    "\n",
    "print(df_3.text_all_cleaned.values[:10])\n",
    "print(df_3.text_all[:10])"
   ]
  },
  {
   "cell_type": "code",
   "execution_count": 121,
   "metadata": {},
   "outputs": [
    {
     "name": "stdout",
     "output_type": "stream",
     "text": [
      "The best parameters are {'tfidf__ngram_range': (1, 2), 'tfidf__max_features': 400, 'tfidf__max_df': 0.5, 'reduce_dim__n_components': 150, 'clf__gamma': 1e-06, 'clf__C': 100} with a log loss of 0.3818472562554885\n"
     ]
    }
   ],
   "source": [
    "X = df_3.text_all_cleaned.values\n",
    "y = df_3.positive.values\n",
    "\n",
    "\n",
    "\n",
    "estimators = [('tfidf', TfidfVectorizer(max_df=0.5, max_features=400, ngram_range=(1,3))), \n",
    "              ('reduce_dim', TruncatedSVD(n_components=150)), \n",
    "              ('clf', SVC(probability=True, C=100, gamma=0.000001))]\n",
    "\n",
    "pipe = Pipeline(estimators)\n",
    "\n",
    "\n",
    "# cv = StratifiedShuffleSplit(n_splits=3, test_size=0.2, random_state=42)\n",
    "# grid = RandomizedSearchCV(pipe, param_distributions=param_distributions, cv=cv, scoring='neg_log_loss',n_iter=25, n_jobs=-1)\n",
    "\n",
    "\n",
    "pipe.fit(X, y)\n",
    "predictions = pipe.predict(X)\n",
    "\n",
    "print(f\"The best parameters are {grid.best_params_} with a log loss of {-1*grid.best_score_}\")\n",
    "\n",
    "\n"
   ]
  },
  {
   "cell_type": "code",
   "execution_count": 127,
   "metadata": {},
   "outputs": [
    {
     "data": {
      "text/plain": [
       "1"
      ]
     },
     "execution_count": 127,
     "metadata": {},
     "output_type": "execute_result"
    }
   ],
   "source": [
    "one_case_pred = pipe.predict(['crunchy good gluten free sandwich cookie have try couple brand gluten free sandwich cookie good bunch   crunchy true texture real cookie gluten free   think filling make bit sweet mean satisfy sweet tooth sooner   chocolate version glutino good true chocolatey taste gluten free brand'])\n",
    "one_case_pred[0]            \n",
    "             "
   ]
  },
  {
   "cell_type": "code",
   "execution_count": 128,
   "metadata": {},
   "outputs": [
    {
     "data": {
      "text/plain": [
       "array([[0.  , 0.22],\n",
       "       [0.  , 0.78]])"
      ]
     },
     "execution_count": 128,
     "metadata": {},
     "output_type": "execute_result"
    }
   ],
   "source": [
    "from sklearn.metrics import confusion_matrix\n",
    "confusion_matrix(y, predictions)/1000"
   ]
  },
  {
   "cell_type": "code",
   "execution_count": null,
   "metadata": {},
   "outputs": [],
   "source": []
  },
  {
   "cell_type": "code",
   "execution_count": null,
   "metadata": {},
   "outputs": [],
   "source": [
    "'tfidf', TfidfVectorizer()"
   ]
  },
  {
   "cell_type": "code",
   "execution_count": null,
   "metadata": {},
   "outputs": [],
   "source": []
  },
  {
   "cell_type": "code",
   "execution_count": null,
   "metadata": {},
   "outputs": [],
   "source": []
  },
  {
   "cell_type": "code",
   "execution_count": null,
   "metadata": {},
   "outputs": [],
   "source": []
  },
  {
   "cell_type": "code",
   "execution_count": null,
   "metadata": {},
   "outputs": [],
   "source": []
  },
  {
   "cell_type": "code",
   "execution_count": null,
   "metadata": {},
   "outputs": [],
   "source": []
  },
  {
   "cell_type": "code",
   "execution_count": null,
   "metadata": {},
   "outputs": [],
   "source": []
  },
  {
   "cell_type": "code",
   "execution_count": null,
   "metadata": {},
   "outputs": [],
   "source": []
  },
  {
   "cell_type": "code",
   "execution_count": null,
   "metadata": {},
   "outputs": [],
   "source": []
  },
  {
   "cell_type": "code",
   "execution_count": null,
   "metadata": {},
   "outputs": [],
   "source": []
  }
 ],
 "metadata": {
  "kernelspec": {
   "display_name": "Python 3",
   "language": "python",
   "name": "python3"
  },
  "language_info": {
   "codemirror_mode": {
    "name": "ipython",
    "version": 3
   },
   "file_extension": ".py",
   "mimetype": "text/x-python",
   "name": "python",
   "nbconvert_exporter": "python",
   "pygments_lexer": "ipython3",
   "version": "3.7.3"
  }
 },
 "nbformat": 4,
 "nbformat_minor": 2
}
