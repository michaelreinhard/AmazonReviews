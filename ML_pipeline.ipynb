{
 "cells": [
  {
   "cell_type": "markdown",
   "metadata": {},
   "source": [
    "First, load the packages"
   ]
  },
  {
   "cell_type": "code",
   "execution_count": 1,
   "metadata": {},
   "outputs": [],
   "source": [
    "%matplotlib inline\n",
    "\n",
    "import sqlite3\n",
    "import pandas as pd\n",
    "import numpy as np\n",
    "import nltk\n",
    "import string\n",
    "import matplotlib.pyplot as plt\n",
    "import numpy as np\n",
    "\n",
    "from sklearn.model_selection import GridSearchCV\n",
    "from sklearn.model_selection import StratifiedShuffleSplit\n",
    "from sklearn.feature_extraction.text import TfidfTransformer\n",
    "from sklearn.feature_extraction.text import CountVectorizer\n",
    "from sklearn.feature_extraction.text import TfidfVectorizer\n",
    "from sklearn.decomposition import TruncatedSVD\n",
    "from sklearn.preprocessing import Normalizer\n",
    "from sklearn.model_selection import train_test_split\n",
    "from sklearn.metrics import confusion_matrix\n",
    "from sklearn import metrics\n",
    "from sklearn.metrics import roc_curve, auc\n",
    "from sklearn.metrics import accuracy_score\n",
    "from sklearn.metrics import f1_score, classification_report\n",
    "\n",
    "\n",
    "\n",
    "#models\n",
    "from sklearn.svm import SVC\n",
    "from sklearn.naive_bayes import MultinomialNB\n",
    "\n",
    "\n",
    "\n",
    "import re\n",
    "\n",
    "import spacy\n",
    "import pandas as pd\n",
    "import itertools as it \n",
    "\n",
    "nlp = spacy.load('en')\n"
   ]
  },
  {
   "cell_type": "markdown",
   "metadata": {},
   "source": [
    "### Load functions"
   ]
  },
  {
   "cell_type": "code",
   "execution_count": 2,
   "metadata": {},
   "outputs": [],
   "source": [
    "#import data\n",
    "def importdf_sample_magnitude(order_of_magnitude=None, random_state=None):\n",
    "    '''This function unpickle's the dataframe and returns a random sample of the DataFrame \n",
    "    of a specified magnitude. Allows user to specify the order of magnitude of a random \n",
    "    sampling of the DataFrame. The order_of_magnitude parameter defaults to None, in which \n",
    "    case the function returns the entire data frame. Otherwise, the user enters an integer \n",
    "    which determines the order of magnitude of the DataFrame. A random_state argument is\n",
    "    included as an option.\n",
    "    \n",
    "    IN: integer\n",
    "    OUT: DataFrame'''\n",
    "    df = pd.read_pickle('df_text.pk')\n",
    "    \n",
    "    if order_of_magnitude:\n",
    "        random_state = random_state\n",
    "        sample_size = 10**order_of_magnitude\n",
    "        df = df.sample(sample_size, random_state=random_state)\n",
    "        return df\n",
    "    else: \n",
    "        return df"
   ]
  },
  {
   "cell_type": "code",
   "execution_count": 3,
   "metadata": {},
   "outputs": [],
   "source": [
    "def text_cleaner(df, variable='text_all', lemma_stopword=True, only_stopword=False):\n",
    "    '''\n",
    "    In: df\n",
    "    Out: df\n",
    "    \n",
    "    Takes in a dataframe as an argument and goes through spaCy procedures to \n",
    "    tokenize, lemmatize and remove stop_words. Returns a cleaned string for each \n",
    "    review in the data set.\n",
    "    '''\n",
    "    cleaned_text = []\n",
    "    \n",
    "    regex = re.compile(r'<span.*\\/span>|<br.\\/>|<\\/a >|<a href=.+?\\s>')\n",
    "    \n",
    "    \n",
    "    #takes avariable specified in arguments to iterate through\n",
    "    for text in df[variable]:\n",
    "        \n",
    "        text = str(text).lower() #just to make sure it is a string\n",
    "        \n",
    "        text = re.sub(regex,'',text)\n",
    "\n",
    "        text = nlp(text)\n",
    "        \n",
    "        if lemma_stopword==lemma_stopword:\n",
    "            cleaned = [token.lemma_ for token in text if token.is_punct==False and token.is_stop==False]\n",
    "            cleaned_text.append(' '.join(cleaned))\n",
    "        elif only_stopword==only_stopword:\n",
    "            cleaned = [token.text for token in text if token.is_punct==False and token.is_stop==False]\n",
    "            cleaned_text.append(' '.join(cleaned))\n",
    "        else: \n",
    "            cleaned_text = text\n",
    "    print(len(cleaned_text))\n",
    "    new_variable = f\"{variable}_cleaned\"\n",
    "    df[new_variable] = cleaned_text\n",
    "    return df"
   ]
  },
  {
   "cell_type": "code",
   "execution_count": 4,
   "metadata": {},
   "outputs": [],
   "source": [
    "#standardize text\n",
    "def std_scale(X_train, X_test):\n",
    "    '''\n",
    "    Applies standard scaler to training and testing features of the data set.\n",
    "    '''\n",
    "    from sklearn.preprocessing import StandardScaler\n",
    "    ss = StandardScaler()\n",
    "    ss.fit(X_train)\n",
    "    X_train_std = ss.transform(X_train)\n",
    "    X_test_std = ss.transform(X_test)\n",
    "    return X_train_std, X_test_std"
   ]
  },
  {
   "cell_type": "markdown",
   "metadata": {},
   "source": [
    "### Load the Data"
   ]
  },
  {
   "cell_type": "code",
   "execution_count": null,
   "metadata": {},
   "outputs": [
    {
     "name": "stdout",
     "output_type": "stream",
     "text": [
      "1000\n",
      "10000\n"
     ]
    }
   ],
   "source": [
    "#import samples and lematize\n",
    "df_3 = importdf_sample_magnitude(3,random_state=42)\n",
    "df_4 = importdf_sample_magnitude(4,random_state=42)\n",
    "df_5 = importdf_sample_magnitude(5,random_state=42)\n",
    "\n",
    "#clean the two text variables, text_all and Summary\n",
    "df_3 = text_cleaner(df_3, variable='text_all', lemma_stopword=True, only_stopword=False)\n",
    "df_4 = text_cleaner(df_4, variable='text_all', lemma_stopword=True, only_stopword=False)\n",
    "df_5 = text_cleaner(df_5, variable='text_all', lemma_stopword=True, only_stopword=False)"
   ]
  },
  {
   "cell_type": "markdown",
   "metadata": {},
   "source": [
    "## Model"
   ]
  },
  {
   "cell_type": "code",
   "execution_count": null,
   "metadata": {},
   "outputs": [],
   "source": [
    "for item in df_3.groupby('Score')['Score'].value_counts().items():\n",
    "    print(item[0][0])\n",
    "    print(item[1])\n",
    "y = [(df.positive==0).sum(),(df.positive==1).sum()]\n",
    "x = ['0', '1']"
   ]
  },
  {
   "cell_type": "markdown",
   "metadata": {},
   "source": [
    "\n",
    "### MultinomialNB\n",
    "Ran the multinomialNB on count data. Does well. But I can standardize because it leads to negative values. I have not run the tfidf on this data yet because I have already determined that it does not work as well as the count data."
   ]
  },
  {
   "cell_type": "code",
   "execution_count": null,
   "metadata": {},
   "outputs": [],
   "source": [
    "X_train, X_test, y_train, y_test = train_test_split(X, y)"
   ]
  },
  {
   "cell_type": "code",
   "execution_count": null,
   "metadata": {},
   "outputs": [],
   "source": [
    "\n",
    "\n",
    "\n",
    "#get count data\n",
    "cnt_vctr = CountVectorizer()\n",
    "\n",
    "#turn the training set into count data\n",
    "X_train_cnt = cnt_vctr.fit_transform(X_train)\n",
    "\n",
    "#turn the text data into count data\n",
    "X_test_cnt = cnt_vctr.transform(X_test)\n",
    "\n",
    "# X_train_cnt_std, X_test_cnt_std = std_scale(X_train_cnt.todense(),X_test_cnt.todense())\n",
    "# can't standardize because centering on 0 causes negative values. Try Gaussian? \n",
    "\n",
    "#normalize (rather than standardize)\n",
    "\n",
    "nrmr = Normalizer() \n",
    "X_train_cnt_nrm = nrmr.transform(X_train_cnt)\n",
    "X_test_cnt_nrm = nrmr.transform(X_test_cnt)\n",
    "\n",
    "mulNB_cnt = MultinomialNB()\n",
    "mulNB_cnt.fit(X_train_cnt_nrm, y_train)\n",
    "\n",
    "results_s = {}\n",
    "results_s['multinomialNB_cnt']={}\n",
    "\n",
    "results_s['multinomialNB_cnt']['accuracy'] = accuracy_score(y_test, mulNB_cnt.predict(X_test_cnt_nrm))\n",
    "\n",
    "results_s['multinomialNB_cnt']['parameters']='defaults'\n",
    "\n",
    "\n",
    "\n",
    "results_s['multinomialNB_cnt']['report'] = classification_report(y_test, mulNB_cnt.predict(X_test_cnt_nrm))\n",
    "print(results_s['multinomialNB_cnt']['accuracy'])\n",
    "print(results_s['multinomialNB_cnt']['report'])\n",
    "\n"
   ]
  },
  {
   "cell_type": "markdown",
   "metadata": {},
   "source": [
    "Here we are supposed to see evidence that there is no gain in accuracy from standardization of the data. I'll go back and get this code running later if necessary."
   ]
  },
  {
   "cell_type": "markdown",
   "metadata": {},
   "source": [
    "### Singular Value Decomposition"
   ]
  },
  {
   "cell_type": "code",
   "execution_count": 13,
   "metadata": {},
   "outputs": [
    {
     "name": "stdout",
     "output_type": "stream",
     "text": [
      "The best parameters are {'tfidf__ngram_range': (1, 2), 'tfidf__min_df': 1e-06, 'tfidf__max_features': 1300, 'tfidf__max_df': 0.5, 'reduce_dim__n_components': 200, 'clf__gamma': 0.1, 'clf__C': 100} with a log loss of 0.4853318030606406\n",
      "the accuracy of the model is 0.7892\n",
      "              precision    recall  f1-score   support\n",
      "\n",
      "           0       0.76      0.62      0.68       908\n",
      "           1       0.80      0.89      0.84      1592\n",
      "\n",
      "    accuracy                           0.79      2500\n",
      "   macro avg       0.78      0.75      0.76      2500\n",
      "weighted avg       0.79      0.79      0.78      2500\n",
      "\n"
     ]
    }
   ],
   "source": [
    "'''This is the one that finally worked. '''\n",
    "# import timeit\n",
    "# %%timeit\n",
    "\n",
    "from sklearn.pipeline import Pipeline\n",
    "from sklearn.decomposition import TruncatedSVD\n",
    "from sklearn.model_selection import RandomizedSearchCV\n",
    "\n",
    "X= df_4.text_all_cleaned.values\n",
    "y= df_4.positive.values\n",
    "\n",
    "X_train, X_test, y_train,  y_test = train_test_split(X, y)\n",
    "\n",
    "estimators = [('tfidf', TfidfVectorizer()), \n",
    "              ('reduce_dim', TruncatedSVD()), \n",
    "              ('clf', SVC(probability=True))]\n",
    "pipe = Pipeline(estimators)\n",
    "\n",
    "param_distributions = dict(tfidf__max_df=[0.5, 0.6, 0.7, 0.8, 0.9], \n",
    "                  tfidf__min_df=[0.000001, 0.00001, 0.0001], \n",
    "                  tfidf__max_features=[1000, 1300, 1600], #Maybe do this with numbers over 100? \n",
    "                  tfidf__ngram_range=[(1,2)],\n",
    "                  reduce_dim__n_components=[100, 140,200],\n",
    "                  clf__C=[100, 1000, 10000, 100000], \n",
    "                  clf__gamma=[0.1, 0.01, 0.001, 0.0001])\n",
    "\n",
    "cv = StratifiedShuffleSplit(n_splits=3, test_size=0.2, random_state=42)\n",
    "grid = RandomizedSearchCV(pipe, param_distributions=param_distributions, cv=cv, scoring='neg_log_loss',n_iter=25, n_jobs=-1)\n",
    "grid.fit(X_train, y_train)\n",
    "predictions = grid.predict(X_test)\n",
    "\n",
    "print(\"The best parameters are {} with a log loss of {}\".format(grid.best_params_, -1*grid.best_score_))\n",
    "print('the accuracy of the model is {}'.format(accuracy_score(y_test, predictions)))\n",
    "print(classification_report(y_test, predictions))"
   ]
  },
  {
   "cell_type": "markdown",
   "metadata": {},
   "source": [
    "Started going back down:\n",
    "\n",
    "The best parameters are {'tfidf__ngram_range': (1, 2), 'tfidf__min_df': 0.0001, 'tfidf__max_features': 1300, 'tfidf__max_df': 0.8, 'reduce_dim__n_components': 140, 'clf__gamma': 0.01, 'clf__C': 10000} with a log loss of 0.4929541792094349\n",
    "the accuracy of the model is 0.7748\n",
    "              precision    recall  f1-score   support\n",
    "\n",
    "           0       0.73      0.62      0.67       916\n",
    "           1       0.80      0.86      0.83      1584\n",
    "\n",
    "    accuracy                           0.77      2500\n",
    "   macro avg       0.76      0.74      0.75      2500\n",
    "weighted avg       0.77      0.77      0.77      2500\n",
    "\n",
    "\n",
    "\n",
    "\n",
    "Lastest best model so far:\n",
    "\n",
    "The best parameters are {'tfidf__ngram_range': (1, 2), 'tfidf__min_df': 1e-05, 'tfidf__max_features': 1300, 'tfidf__max_df': 0.7, 'reduce_dim__n_components': 140, 'clf__gamma': 0.01, 'clf__C': 10000} with a log loss of 0.49408760389845235\n",
    "the accuracy of the model is 0.7852\n",
    "              precision    recall  f1-score   support\n",
    "\n",
    "           0       0.75      0.62      0.68       909\n",
    "           1       0.80      0.88      0.84      1591\n",
    "\n",
    "    accuracy                           0.79      2500\n",
    "   macro avg       0.77      0.75      0.76      2500\n",
    "weighted avg       0.78      0.79      0.78      2500\n"
   ]
  },
  {
   "cell_type": "markdown",
   "metadata": {},
   "source": [
    "New best model so far: \n",
    "\n",
    "The best parameters are {'tfidf__ngram_range': (1, 2), 'tfidf__min_df': 0.0001, 'tfidf__max_features': 1200, 'tfidf__max_df': 0.7, 'reduce_dim__n_components': 130, 'clf__gamma': 0.001, 'clf__C': 10000} with a log loss of 0.4893221891715191\n",
    "the accuracy of the model is 0.7752\n",
    "              precision    recall  f1-score   support\n",
    "\n",
    "           0       0.71      0.62      0.66       891\n",
    "           1       0.80      0.86      0.83      1609\n",
    "\n",
    "    accuracy                           0.78      2500\n",
    "   macro avg       0.76      0.74      0.75      2500\n",
    "weighted avg       0.77      0.78      0.77      2500\n",
    "\n",
    "\n",
    "\n",
    "Best model so far: \n",
    "\n",
    "The best parameters are {'tfidf__ngram_range': (1, 2), 'tfidf__min_df': 0.001, 'tfidf__max_features': 1000, 'tfidf__max_df': 0.6, 'reduce_dim__n_components': 140, 'clf__gamma': 0.0001, 'clf__C': 1000} with a log loss of 0.5023788452988097\n",
    "the accuracy of the model is 0.7684\n",
    "              precision    recall  f1-score   support\n",
    "\n",
    "           0       0.80      0.48      0.60       908\n",
    "           1       0.76      0.93      0.84      1592\n",
    "\n",
    "    accuracy                           0.77      2500\n",
    "   macro avg       0.78      0.71      0.72      2500\n",
    "weighted avg       0.77      0.77      0.75      2500\n"
   ]
  },
  {
   "cell_type": "code",
   "execution_count": null,
   "metadata": {},
   "outputs": [],
   "source": [
    "from sklearn.metrics import confusion_matrix\n",
    "confusion_matrix(y_test,predictions)/10000"
   ]
  },
  {
   "cell_type": "code",
   "execution_count": 59,
   "metadata": {},
   "outputs": [],
   "source": [
    "confusion = confusion_matrix(y_test,predictions)"
   ]
  },
  {
   "cell_type": "code",
   "execution_count": 60,
   "metadata": {},
   "outputs": [],
   "source": [
    "TP = confusion[1,1]\n",
    "TN = confusion[0,0]\n",
    "FP = confusion[0,1]\n",
    "FN = confusion[1,0]"
   ]
  },
  {
   "cell_type": "code",
   "execution_count": 61,
   "metadata": {},
   "outputs": [
    {
     "name": "stdout",
     "output_type": "stream",
     "text": [
      "Accuracy is 0.7684\n"
     ]
    }
   ],
   "source": [
    "print(\"Accuracy is {}\".format((TP + TN)/(TP + FP + TN + FN)))"
   ]
  },
  {
   "cell_type": "code",
   "execution_count": 63,
   "metadata": {},
   "outputs": [
    {
     "name": "stdout",
     "output_type": "stream",
     "text": [
      "Sensitivity is 0.9321608040201005\n",
      "Sklearn's Sensitivity/Recall: 0.9321608040201005\n"
     ]
    }
   ],
   "source": [
    "print(\"Sensitivity is {}\".format(TP/(TP + FN)))\n",
    "print(\"Sklearn's Sensitivity/Recall: {}\".format(metrics.recall_score(y_test,predictions)))"
   ]
  },
  {
   "cell_type": "code",
   "execution_count": 64,
   "metadata": {},
   "outputs": [
    {
     "name": "stdout",
     "output_type": "stream",
     "text": [
      "Specificity is 0.4812775330396476\n",
      "No metric in Sklearn\n"
     ]
    }
   ],
   "source": [
    "print(\"Specificity is {}\".format(TN/(TN + FP)))\n",
    "print(\"No metric in Sklearn\")"
   ]
  },
  {
   "cell_type": "code",
   "execution_count": 65,
   "metadata": {},
   "outputs": [
    {
     "name": "stdout",
     "output_type": "stream",
     "text": [
      "False Positive 0.24092071611253196\n"
     ]
    }
   ],
   "source": [
    "print(\"False Positive {}\".format(FP/(TP + FP)))"
   ]
  },
  {
   "cell_type": "code",
   "execution_count": 67,
   "metadata": {},
   "outputs": [
    {
     "name": "stdout",
     "output_type": "stream",
     "text": [
      "Precision score 0.759079283887468\n",
      "Sklearn Precision Score: 0.759079283887468\n"
     ]
    }
   ],
   "source": [
    "print(\"Precision score {}\".format(TP/(TP+FP)))\n",
    "print(\"Sklearn Precision Score: {}\".format(metrics.precision_score(y_test,predictions)))"
   ]
  },
  {
   "cell_type": "markdown",
   "metadata": {},
   "source": [
    "Create a baseline for a dummy classifier."
   ]
  },
  {
   "cell_type": "code",
   "execution_count": 68,
   "metadata": {},
   "outputs": [
    {
     "name": "stdout",
     "output_type": "stream",
     "text": [
      "10000\n"
     ]
    },
    {
     "data": {
      "text/plain": [
       "10000"
      ]
     },
     "execution_count": 68,
     "metadata": {},
     "output_type": "execute_result"
    }
   ],
   "source": [
    "from sklearn.dummy import DummyClassifier\n",
    "\n",
    "X_dummy = np.array(np.linspace(0,100,10000))\n",
    "print(len(X_dummy))\n",
    "len(y)"
   ]
  },
  {
   "cell_type": "code",
   "execution_count": 69,
   "metadata": {},
   "outputs": [],
   "source": [
    "dumb = DummyClassifier( strategy='most_frequent')"
   ]
  },
  {
   "cell_type": "code",
   "execution_count": 70,
   "metadata": {},
   "outputs": [],
   "source": [
    "X_dummy = X_dummy.reshape(-1,1)"
   ]
  },
  {
   "cell_type": "code",
   "execution_count": 71,
   "metadata": {},
   "outputs": [
    {
     "data": {
      "text/plain": [
       "DummyClassifier(constant=None, random_state=None, strategy='most_frequent')"
      ]
     },
     "execution_count": 71,
     "metadata": {},
     "output_type": "execute_result"
    }
   ],
   "source": [
    "dumb.fit(X_dummy,y)"
   ]
  },
  {
   "cell_type": "code",
   "execution_count": 72,
   "metadata": {},
   "outputs": [],
   "source": [
    "predictions = dumb.predict(X_dummy)"
   ]
  },
  {
   "cell_type": "code",
   "execution_count": 73,
   "metadata": {},
   "outputs": [
    {
     "data": {
      "text/plain": [
       "12.444609230040419"
      ]
     },
     "execution_count": 73,
     "metadata": {},
     "output_type": "execute_result"
    }
   ],
   "source": [
    "metrics.log_loss(y, predictions)"
   ]
  },
  {
   "cell_type": "code",
   "execution_count": 74,
   "metadata": {},
   "outputs": [
    {
     "name": "stdout",
     "output_type": "stream",
     "text": [
      "Normalized confusion matrix\n",
      "[[0.48127753 0.51872247]\n",
      " [0.0678392  0.9321608 ]]\n"
     ]
    },
    {
     "data": {
      "image/png": "[encoded data removed]",
      "text/plain": [
       "<Figure size 432x288 with 2 Axes>"
      ]
     },
     "metadata": {
      "needs_background": "light"
     },
     "output_type": "display_data"
    }
   ],
   "source": [
    "#classes correspond to 0,1\n",
    "classes = ['False','True']\n",
    "\n",
    "def plot_confusion_matrix(cm, classes,\n",
    "                          normalize=False,\n",
    "                          title='Confusion matrix',\n",
    "                          cmap=plt.cm.Blues):\n",
    "    \"\"\"\n",
    "    This function prints and plots the confusion matrix.\n",
    "    Normalization can be applied by setting `normalize=True`.\n",
    "    \"\"\"\n",
    "    if normalize:\n",
    "        cm = cm.astype('float') / cm.sum(axis=1)[:, np.newaxis]\n",
    "        print(\"Normalized confusion matrix\")\n",
    "    else:\n",
    "        print('Confusion matrix, without normalization')\n",
    "\n",
    "    print(cm)\n",
    "\n",
    "    plt.imshow(cm, interpolation='nearest', cmap=cmap)\n",
    "    plt.title(title)\n",
    "    plt.colorbar()\n",
    "    tick_marks = np.arange(len(classes))\n",
    "    plt.xticks(tick_marks, classes, rotation=45)\n",
    "    plt.yticks(tick_marks, classes)\n",
    "\n",
    "    \n",
    "    \n",
    "plot_confusion_matrix(confusion, classes, normalize=True)"
   ]
  },
  {
   "cell_type": "code",
   "execution_count": 75,
   "metadata": {},
   "outputs": [
    {
     "data": {
      "image/png": "[encoded data removed]",
      "text/plain": [
       "<Figure size 432x288 with 1 Axes>"
      ]
     },
     "metadata": {
      "needs_background": "light"
     },
     "output_type": "display_data"
    }
   ],
   "source": [
    "plt.hist(grid.predict_proba(X));"
   ]
  },
  {
   "cell_type": "code",
   "execution_count": 76,
   "metadata": {},
   "outputs": [],
   "source": [
    "predicted_probabilities = grid.predict_proba(X)[:100]"
   ]
  },
  {
   "cell_type": "code",
   "execution_count": 77,
   "metadata": {},
   "outputs": [],
   "source": [
    "probabilties = [p[1] for p in predicted_probabilities]"
   ]
  },
  {
   "cell_type": "code",
   "execution_count": 78,
   "metadata": {},
   "outputs": [
    {
     "data": {
      "image/png": "[encoded data removed]",
      "text/plain": [
       "<Figure size 432x288 with 1 Axes>"
      ]
     },
     "metadata": {
      "needs_background": "light"
     },
     "output_type": "display_data"
    }
   ],
   "source": [
    "plt.hist(probabilties);"
   ]
  },
  {
   "cell_type": "code",
   "execution_count": 69,
   "metadata": {},
   "outputs": [
    {
     "data": {
      "text/plain": [
       "array([0])"
      ]
     },
     "execution_count": 69,
     "metadata": {},
     "output_type": "execute_result"
    }
   ],
   "source": [
    "import pickle\n",
    "s = pickle.dumps(grid)\n",
    "new_grid = pickle.loads(s)\n",
    "new_grid.predict([\"I hate this product and everyone that eats this crap\"])"
   ]
  },
  {
   "cell_type": "code",
   "execution_count": 128,
   "metadata": {},
   "outputs": [
    {
     "data": {
      "text/plain": [
       "array([[0.  , 0.22],\n",
       "       [0.  , 0.78]])"
      ]
     },
     "execution_count": 128,
     "metadata": {},
     "output_type": "execute_result"
    }
   ],
   "source": [
    "from sklearn.metrics import confusion_matrix\n",
    "confusion_matrix(y, predictions)/1000"
   ]
  }
 ],
 "metadata": {
  "kernelspec": {
   "display_name": "Python 3",
   "language": "python",
   "name": "python3"
  },
  "language_info": {
   "codemirror_mode": {
    "name": "ipython",
    "version": 3
   },
   "file_extension": ".py",
   "mimetype": "text/x-python",
   "name": "python",
   "nbconvert_exporter": "python",
   "pygments_lexer": "ipython3",
   "version": "3.7.3"
  }
 },
 "nbformat": 4,
 "nbformat_minor": 2
}
